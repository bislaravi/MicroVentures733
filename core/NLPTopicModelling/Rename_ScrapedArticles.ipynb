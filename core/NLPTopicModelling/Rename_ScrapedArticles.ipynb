{
 "cells": [
  {
   "cell_type": "code",
   "execution_count": 17,
   "metadata": {},
   "outputs": [],
   "source": [
    "import os"
   ]
  },
  {
   "cell_type": "code",
   "execution_count": 18,
   "metadata": {},
   "outputs": [],
   "source": [
    "directory = '/home/ravibisla/Desktop/cmpt733_project/LatestCrunchBase/articles1/'\n",
    "\n",
    "# directory = 'articles'"
   ]
  },
  {
   "cell_type": "code",
   "execution_count": 20,
   "metadata": {},
   "outputs": [],
   "source": [
    "for filename in os.listdir(directory):\n",
    "    dir_name = os.path.join(directory, filename)\n",
    "#     print(dir_name)\n",
    "    comp_name = dir_name.split('/')[7]\n",
    "    #print(comp_name)\n",
    "    #print(dir_name)\n",
    "    count = 1\n",
    "    for fname in os.listdir(dir_name):\n",
    "        new_fname = dir_name + '/' + comp_name + '_' + str(count)\n",
    "        cur_dir = os.path.join(dir_name, fname)\n",
    "        os.rename(cur_dir, new_fname)\n",
    "        #print(new_fname)\n",
    "        count = count + 1\n",
    "#     print('---')\n",
    "    "
   ]
  },
  {
   "cell_type": "code",
   "execution_count": 16,
   "metadata": {},
   "outputs": [
    {
     "data": {
      "text/plain": [
       "'netease-com'"
      ]
     },
     "execution_count": 16,
     "metadata": {},
     "output_type": "execute_result"
    }
   ],
   "source": [
    "dir_name.split('/')[7]"
   ]
  }
 ],
 "metadata": {
  "kernelspec": {
   "display_name": "Python 3",
   "language": "python",
   "name": "python3"
  },
  "language_info": {
   "codemirror_mode": {
    "name": "ipython",
    "version": 3
   },
   "file_extension": ".py",
   "mimetype": "text/x-python",
   "name": "python",
   "nbconvert_exporter": "python",
   "pygments_lexer": "ipython3",
   "version": "3.5.2"
  }
 },
 "nbformat": 4,
 "nbformat_minor": 2
}
